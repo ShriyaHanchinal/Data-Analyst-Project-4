{
 "cells": [
  {
   "cell_type": "code",
   "execution_count": 1,
   "id": "a627403e",
   "metadata": {},
   "outputs": [],
   "source": [
    "from bs4 import BeautifulSoup\n",
    "import requests\n",
    "import pandas as pd"
   ]
  },
  {
   "cell_type": "code",
   "execution_count": 2,
   "id": "7d36711e",
   "metadata": {},
   "outputs": [],
   "source": [
    "URL = 'https://www.trade.gov/country-commercial-guides/south-korea-market-overview'\n",
    "\n",
    "page = requests.get(URL)\n",
    "\n",
    "soup = BeautifulSoup(page.text, 'html')\n"
   ]
  },
  {
   "cell_type": "code",
   "execution_count": 3,
   "id": "b7f582f6",
   "metadata": {},
   "outputs": [],
   "source": [
    "table = soup.find_all(\"table\")[1]\n"
   ]
  },
  {
   "cell_type": "code",
   "execution_count": 4,
   "id": "bc0b2615",
   "metadata": {},
   "outputs": [
    {
     "data": {
      "text/plain": [
       "[<th nowrap=\"nowrap\" scope=\"col\">\n",
       " <p>Foreign Merchandise Trade ($ billions)</p>\n",
       " </th>,\n",
       " <th scope=\"col\">\n",
       " <p>2019</p>\n",
       " </th>,\n",
       " <th scope=\"col\">\n",
       " <p>2020</p>\n",
       " </th>,\n",
       " <th scope=\"col\">\n",
       " <p>2021</p>\n",
       " </th>]"
      ]
     },
     "execution_count": 4,
     "metadata": {},
     "output_type": "execute_result"
    }
   ],
   "source": [
    "world_title = table.find_all('th')\n",
    "\n",
    "world_title"
   ]
  },
  {
   "cell_type": "code",
   "execution_count": 5,
   "id": "8f4e8344",
   "metadata": {},
   "outputs": [
    {
     "data": {
      "text/plain": [
       "['Foreign Merchandise Trade ($ billions)', '2019', '2020', '2021']"
      ]
     },
     "execution_count": 5,
     "metadata": {},
     "output_type": "execute_result"
    }
   ],
   "source": [
    "table_titles = [title.text.strip() for title in world_title]\n",
    "\n",
    "table_titles"
   ]
  },
  {
   "cell_type": "code",
   "execution_count": 6,
   "id": "1e87454c",
   "metadata": {},
   "outputs": [
    {
     "data": {
      "text/html": [
       "<div>\n",
       "<style scoped>\n",
       "    .dataframe tbody tr th:only-of-type {\n",
       "        vertical-align: middle;\n",
       "    }\n",
       "\n",
       "    .dataframe tbody tr th {\n",
       "        vertical-align: top;\n",
       "    }\n",
       "\n",
       "    .dataframe thead th {\n",
       "        text-align: right;\n",
       "    }\n",
       "</style>\n",
       "<table border=\"1\" class=\"dataframe\">\n",
       "  <thead>\n",
       "    <tr style=\"text-align: right;\">\n",
       "      <th></th>\n",
       "      <th>Foreign Merchandise Trade ($ billions)</th>\n",
       "      <th>2019</th>\n",
       "      <th>2020</th>\n",
       "      <th>2021</th>\n",
       "    </tr>\n",
       "  </thead>\n",
       "  <tbody>\n",
       "  </tbody>\n",
       "</table>\n",
       "</div>"
      ],
      "text/plain": [
       "Empty DataFrame\n",
       "Columns: [Foreign Merchandise Trade ($ billions), 2019, 2020, 2021]\n",
       "Index: []"
      ]
     },
     "execution_count": 6,
     "metadata": {},
     "output_type": "execute_result"
    }
   ],
   "source": [
    "df = pd.DataFrame(columns = table_titles)\n",
    "\n",
    "df"
   ]
  },
  {
   "cell_type": "code",
   "execution_count": 7,
   "id": "db78ec19",
   "metadata": {},
   "outputs": [],
   "source": [
    "column_data = table.find_all('tr')\n"
   ]
  },
  {
   "cell_type": "code",
   "execution_count": 8,
   "id": "0e09dbb0",
   "metadata": {},
   "outputs": [],
   "source": [
    "for row in column_data[1:]:\n",
    "    row_data = row.find_all('td') + row.find_all('th')\n",
    "    individual_data = [data.text.strip() for data in row_data]  \n",
    "    #print(individual_data)\n",
    "    length = len(df)\n",
    "    df.loc[length] = individual_data"
   ]
  },
  {
   "cell_type": "code",
   "execution_count": 9,
   "id": "2b140960",
   "metadata": {},
   "outputs": [
    {
     "data": {
      "text/html": [
       "<div>\n",
       "<style scoped>\n",
       "    .dataframe tbody tr th:only-of-type {\n",
       "        vertical-align: middle;\n",
       "    }\n",
       "\n",
       "    .dataframe tbody tr th {\n",
       "        vertical-align: top;\n",
       "    }\n",
       "\n",
       "    .dataframe thead th {\n",
       "        text-align: right;\n",
       "    }\n",
       "</style>\n",
       "<table border=\"1\" class=\"dataframe\">\n",
       "  <thead>\n",
       "    <tr style=\"text-align: right;\">\n",
       "      <th></th>\n",
       "      <th>Foreign Merchandise Trade ($ billions)</th>\n",
       "      <th>2019</th>\n",
       "      <th>2020</th>\n",
       "      <th>2021</th>\n",
       "    </tr>\n",
       "  </thead>\n",
       "  <tbody>\n",
       "    <tr>\n",
       "      <th>0</th>\n",
       "      <td>Exports to World from ROK**</td>\n",
       "      <td>573.7</td>\n",
       "      <td>512.5</td>\n",
       "      <td>650.0</td>\n",
       "    </tr>\n",
       "    <tr>\n",
       "      <th>1</th>\n",
       "      <td>Imports from World to ROK**</td>\n",
       "      <td>478.5</td>\n",
       "      <td>467.6</td>\n",
       "      <td>573.8</td>\n",
       "    </tr>\n",
       "    <tr>\n",
       "      <th>2</th>\n",
       "      <td>U.S. Exports to ROK*</td>\n",
       "      <td>57.89</td>\n",
       "      <td>51.7</td>\n",
       "      <td>65.8</td>\n",
       "    </tr>\n",
       "    <tr>\n",
       "      <th>3</th>\n",
       "      <td>U.S. Imports from ROK*</td>\n",
       "      <td>78.1</td>\n",
       "      <td>76.7</td>\n",
       "      <td>95.0</td>\n",
       "    </tr>\n",
       "    <tr>\n",
       "      <th>4</th>\n",
       "      <td>U.S. Trade Balance with ROK*</td>\n",
       "      <td>-20.2</td>\n",
       "      <td>-25.0</td>\n",
       "      <td>-29.2</td>\n",
       "    </tr>\n",
       "    <tr>\n",
       "      <th>5</th>\n",
       "      <td>Position in U.S. Trade</td>\n",
       "      <td>2019</td>\n",
       "      <td>2020</td>\n",
       "      <td>2021</td>\n",
       "    </tr>\n",
       "    <tr>\n",
       "      <th>6</th>\n",
       "      <td>Rank of ROK in U.S. Exports*</td>\n",
       "      <td>7</td>\n",
       "      <td>7</td>\n",
       "      <td>5</td>\n",
       "    </tr>\n",
       "    <tr>\n",
       "      <th>7</th>\n",
       "      <td>Rank of ROK in U.S. Imports*</td>\n",
       "      <td>7</td>\n",
       "      <td>6</td>\n",
       "      <td>7</td>\n",
       "    </tr>\n",
       "    <tr>\n",
       "      <th>8</th>\n",
       "      <td>ROK Share of U.S. Exports (%)*</td>\n",
       "      <td>3.2</td>\n",
       "      <td>3.6</td>\n",
       "      <td>3.7</td>\n",
       "    </tr>\n",
       "    <tr>\n",
       "      <th>9</th>\n",
       "      <td>ROK Share of U.S. Imports (%)*</td>\n",
       "      <td>2.9</td>\n",
       "      <td>3.3</td>\n",
       "      <td>3.4</td>\n",
       "    </tr>\n",
       "  </tbody>\n",
       "</table>\n",
       "</div>"
      ],
      "text/plain": [
       "  Foreign Merchandise Trade ($ billions)   2019   2020   2021\n",
       "0            Exports to World from ROK**  573.7  512.5  650.0\n",
       "1            Imports from World to ROK**  478.5  467.6  573.8\n",
       "2                   U.S. Exports to ROK*  57.89   51.7   65.8\n",
       "3                 U.S. Imports from ROK*   78.1   76.7   95.0\n",
       "4           U.S. Trade Balance with ROK*  -20.2  -25.0  -29.2\n",
       "5                 Position in U.S. Trade   2019   2020   2021\n",
       "6           Rank of ROK in U.S. Exports*      7      7      5\n",
       "7           Rank of ROK in U.S. Imports*      7      6      7\n",
       "8         ROK Share of U.S. Exports (%)*    3.2    3.6    3.7\n",
       "9         ROK Share of U.S. Imports (%)*    2.9    3.3    3.4"
      ]
     },
     "execution_count": 9,
     "metadata": {},
     "output_type": "execute_result"
    }
   ],
   "source": [
    "df"
   ]
  },
  {
   "cell_type": "code",
   "execution_count": 10,
   "id": "aa8ffd7d",
   "metadata": {},
   "outputs": [],
   "source": [
    "df.to_csv(r'C:\\Users\\SHREYA\\Downloads\\Python Project\\Market Overview.csv', index = False)"
   ]
  },
  {
   "cell_type": "code",
   "execution_count": null,
   "id": "02126c56",
   "metadata": {},
   "outputs": [],
   "source": []
  }
 ],
 "metadata": {
  "kernelspec": {
   "display_name": "Python 3 (ipykernel)",
   "language": "python",
   "name": "python3"
  },
  "language_info": {
   "codemirror_mode": {
    "name": "ipython",
    "version": 3
   },
   "file_extension": ".py",
   "mimetype": "text/x-python",
   "name": "python",
   "nbconvert_exporter": "python",
   "pygments_lexer": "ipython3",
   "version": "3.10.9"
  }
 },
 "nbformat": 4,
 "nbformat_minor": 5
}
